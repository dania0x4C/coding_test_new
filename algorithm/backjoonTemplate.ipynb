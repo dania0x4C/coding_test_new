{
 "cells": [
  {
   "cell_type": "code",
   "execution_count": null,
   "metadata": {},
   "outputs": [],
   "source": [
    "# 백준-style input()을 테스트용으로 흉내내기 위한 클래스\n",
    "class InputMock:\n",
    "    def __init__(self, text: str):\n",
    "        # 사용자가 지정한 입력 문자열을 저장 (전체 문자열)\n",
    "        self.source = text.strip()  # 앞뒤 공백 제거\n",
    "        # 아직 줄 단위로 나누지는 않음 → 첫 호출 시 reset()으로 분리됨\n",
    "\n",
    "    def reset(self):\n",
    "        # 원본 문자열을 줄 단위 리스트로 변환\n",
    "        self.lines = self.source.split('\\n')\n",
    "        # 현재 읽고 있는 줄 번호를 초기화\n",
    "        self.current = 0\n",
    "\n",
    "    def __call__(self):\n",
    "        # 아직 reset된 적 없거나, 모든 줄을 다 읽었으면 자동 초기화\n",
    "        if not hasattr(self, 'lines') or self.current >= len(self.lines):\n",
    "            self.reset()\n",
    "        # 현재 줄 반환 후, 다음 줄로 인덱스 이동\n",
    "        line = self.lines[self.current]\n",
    "        self.current += 1\n",
    "        return line\n",
    "\n",
    "\n",
    "# 테스트 입력 정의 (여러 줄 입력도 가능)\n",
    "test_input = \"\"\"\n",
    "anything\n",
    "anything\n",
    "anything\n",
    "\"\"\"\n",
    "\n",
    "# input()처럼 사용 가능하게 인스턴스 생성\n",
    "input = InputMock(test_input)"
   ]
  }
 ],
 "metadata": {
  "language_info": {
   "name": "python"
  }
 },
 "nbformat": 4,
 "nbformat_minor": 2
}
